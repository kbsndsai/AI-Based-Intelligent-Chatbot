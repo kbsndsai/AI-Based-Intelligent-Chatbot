{
 "cells": [
  {
   "cell_type": "code",
   "execution_count": 1,
   "id": "77fae6f0",
   "metadata": {},
   "outputs": [
    {
     "data": {
      "application/vnd.jupyter.widget-view+json": {
       "model_id": "46ba79766ff34996b26774a93fa9a0a0",
       "version_major": 2,
       "version_minor": 0
      },
      "text/plain": [
       "Text(value='', description='Question:', placeholder='Type your question here...')"
      ]
     },
     "metadata": {},
     "output_type": "display_data"
    },
    {
     "data": {
      "application/vnd.jupyter.widget-view+json": {
       "model_id": "8bc5549e5e144a2eb1225bba1061a196",
       "version_major": 2,
       "version_minor": 0
      },
      "text/plain": [
       "Button(description='Ask', style=ButtonStyle(), tooltip='Click me')"
      ]
     },
     "metadata": {},
     "output_type": "display_data"
    },
    {
     "name": "stdout",
     "output_type": "stream",
     "text": [
      "User question: Why GIM\n",
      "Answer:\n",
      "GIM is chosen for its robust leadership, scenic campus, enriching spirit, diverse centers of excellence, strong placement network, state-of-the-art learning infrastructure, and socially responsible learning experience.\n",
      "User question: BDA?\n",
      "Answer:\n",
      "The Achievers Round is a part of the selection process where academic toppers from selected institutes are invited as ELITE applications, and they are given an opportunity to appear in the interview process without considering CAT/XAT/GMAT scores.\n"
     ]
    }
   ],
   "source": [
    "from sentence_transformers import SentenceTransformer, util\n",
    "import torch\n",
    "import pandas as pd\n",
    "from IPython.display import display\n",
    "import ipywidgets as widgets\n",
    "from IPython import get_ipython\n",
    "\n",
    "# Load the dataset\n",
    "dataset = pd.read_excel(\"Dataset.xlsx\")\n",
    "\n",
    "# Initialize the SBERT model\n",
    "model = SentenceTransformer('all-MiniLM-L6-v2')\n",
    "\n",
    "# Function to encode questions into embeddings\n",
    "def encode_questions(questions):\n",
    "    return model.encode(questions, convert_to_tensor=True)\n",
    "\n",
    "# Encode all questions in the dataset\n",
    "question_embeddings = encode_questions(dataset['dialogue'].tolist())\n",
    "\n",
    "# Function to find the most similar question and return its answer\n",
    "def get_answer(user_question):\n",
    "    user_question_embedding = model.encode(user_question, convert_to_tensor=True)\n",
    "    cos_sim = util.pytorch_cos_sim(user_question_embedding, question_embeddings)\n",
    "    most_similar_idx = torch.argmax(cos_sim).item()\n",
    "    return dataset.iloc[most_similar_idx]['summary ']\n",
    "\n",
    "# Function to create a new code cell with user input\n",
    "def add_code_cell(user_question):\n",
    "    code = f\"\"\"\n",
    "user_question = \"{user_question}\"\n",
    "answer = get_answer(user_question)\n",
    "print(\"User question:\", user_question)\n",
    "print(\"Answer:\")\n",
    "print(answer)\n",
    "    \"\"\"\n",
    "    get_ipython().run_cell(code)\n",
    "\n",
    "def on_button_clicked(b):\n",
    "    user_question = text_input.value  # Get the value from the text input widget\n",
    "    if user_question.lower() == 'exit':\n",
    "        return\n",
    "    add_code_cell(user_question)\n",
    "\n",
    "# Create widgets\n",
    "text_input = widgets.Text(\n",
    "    value='',\n",
    "    placeholder='Type your question here...',\n",
    "    description='Question:',\n",
    "    disabled=False\n",
    ")\n",
    "\n",
    "button = widgets.Button(\n",
    "    description='Ask',\n",
    "    disabled=False,\n",
    "    button_style='',  # 'success', 'info', 'warning', 'danger' or ''\n",
    "    tooltip='Click me',\n",
    ")\n",
    "\n",
    "button.on_click(on_button_clicked)  # Bind the click event to the handler function\n",
    "\n",
    "# Display widgets\n",
    "display(text_input, button)\n"
   ]
  }
 ],
 "metadata": {
  "kernelspec": {
   "display_name": "Python 3 (ipykernel)",
   "language": "python",
   "name": "python3"
  },
  "language_info": {
   "codemirror_mode": {
    "name": "ipython",
    "version": 3
   },
   "file_extension": ".py",
   "mimetype": "text/x-python",
   "name": "python",
   "nbconvert_exporter": "python",
   "pygments_lexer": "ipython3",
   "version": "3.11.5"
  }
 },
 "nbformat": 4,
 "nbformat_minor": 5
}
